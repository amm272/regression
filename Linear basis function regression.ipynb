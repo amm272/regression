{
 "cells": [
  {
   "cell_type": "markdown",
   "id": "0257f301",
   "metadata": {},
   "source": [
    "# Linear basis function regression"
   ]
  },
  {
   "cell_type": "markdown",
   "id": "777b7652",
   "metadata": {},
   "source": [
    "Linear regression is a powerful tool for engineering and science applications. Linear regression can be explained as having a set of $N$ observations ($x_i$, $t_i$) with $i =1, 2, ... N$ and wanting to estimate the values of the $target$ variable $t$ for new $observations$ $x$. This can be done by constructing a new function $y(x)$ such that the values of the function constitute $predictions$ of $x$. From a probabilistic perspective, the goal is to model the predictive distribution $p(t|x)$ from which we can provide a measure of uncertainty in the predicted values of $t$ for any given value of $x$. The mathematical derivations in this section are covered in further detail in Chapter 1 and Chapter 3 of the [Pattern Recognition and Machine Learning](https://www.microsoft.com/en-us/research/uploads/prod/2006/01/Bishop-Pattern-Recognition-and-Machine-Learning-2006.pdf) book by Chris Bishop."
   ]
  },
  {
   "cell_type": "markdown",
   "id": "b8da0a48",
   "metadata": {},
   "source": [
    "## Polynomial regression"
   ]
  },
  {
   "cell_type": "markdown",
   "id": "0980d375",
   "metadata": {},
   "source": [
    "In this section we attempt to perform polynomial curve fitting to "
   ]
  },
  {
   "cell_type": "code",
   "execution_count": null,
   "id": "fb0fdf00",
   "metadata": {},
   "outputs": [],
   "source": []
  }
 ],
 "metadata": {
  "kernelspec": {
   "display_name": "Python 3 (ipykernel)",
   "language": "python",
   "name": "python3"
  },
  "language_info": {
   "codemirror_mode": {
    "name": "ipython",
    "version": 3
   },
   "file_extension": ".py",
   "mimetype": "text/x-python",
   "name": "python",
   "nbconvert_exporter": "python",
   "pygments_lexer": "ipython3",
   "version": "3.9.9"
  }
 },
 "nbformat": 4,
 "nbformat_minor": 5
}
